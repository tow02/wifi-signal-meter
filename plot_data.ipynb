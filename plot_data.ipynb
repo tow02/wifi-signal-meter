{
 "cells": [
  {
   "cell_type": "code",
   "execution_count": 1,
   "metadata": {
    "collapsed": true
   },
   "outputs": [],
   "source": [
    "%matplotlib inline\n",
    "import numpy as np\n",
    "import pandas as pd\n",
    "from matplotlib import pyplot as plt"
   ]
  },
  {
   "cell_type": "code",
   "execution_count": 2,
   "metadata": {
    "collapsed": false
   },
   "outputs": [
    {
     "name": "stdout",
     "output_type": "stream",
     "text": [
      "75294\n"
     ]
    }
   ],
   "source": [
    "# return array of records from filename\n",
    "def get_data(filename):\n",
    "    lst = []\n",
    "    with open(filename, 'r') as f:\n",
    "        for record in f:\n",
    "            record = record.strip()\n",
    "            record = record.split(\",\")\n",
    "            lst.append(record)\n",
    "    return lst[1:]\n",
    "\n",
    "def convert_to_num(data):\n",
    "    lst = []\n",
    "    for record in data:\n",
    "        record[1] = float(record[1])\n",
    "        # record[2] = convert_to_frac(record[2])\n",
    "        lst.append(record)\n",
    "    return lst\n",
    "\n",
    "# convert fraction string into\n",
    "# fration number\n",
    "def convert_to_frac(frac_str):\n",
    "    fracs = frac_str.split('/')\n",
    "    try:\n",
    "        fraction = float(fracs[0])/float(fracs[1]) \n",
    "    except Exception as e:\n",
    "        fraction = 0.\n",
    "    return fraction\n",
    "\n",
    "\n",
    "filename = \"data.csv\"\n",
    "data = get_data(filename)\n",
    "data = convert_to_num(data)\n",
    "print len(data)"
   ]
  },
  {
   "cell_type": "markdown",
   "metadata": {},
   "source": [
    "### There are 75294 records\n",
    "\n",
    "Let's focus on MU-WiFi"
   ]
  },
  {
   "cell_type": "code",
   "execution_count": 3,
   "metadata": {
    "collapsed": false
   },
   "outputs": [
    {
     "name": "stdout",
     "output_type": "stream",
     "text": [
      "13808\n"
     ]
    }
   ],
   "source": [
    "# return array of records\n",
    "# given the ssid\n",
    "def get_wifi_data(data, ssid):\n",
    "    lst = []\n",
    "    for record in data:\n",
    "        if record[0] == ssid:\n",
    "            lst.append(record)\n",
    "    return lst\n",
    "\n",
    "mu_wifi = get_wifi_data(data, \"MU-WiFi\")\n",
    "ic_wifi = np.array(get_wifi_data(data, \"IC-WiFi\"))\n",
    "ttt_wifi = np.array(get_wifi_data(data, \"TTTMUIC\"))\n",
    "\n",
    "print len(mu_wifi)"
   ]
  },
  {
   "cell_type": "markdown",
   "metadata": {},
   "source": [
    "### There are 13808 records of MU-WiFi"
   ]
  },
  {
   "cell_type": "code",
   "execution_count": 4,
   "metadata": {
    "collapsed": false
   },
   "outputs": [],
   "source": [
    "def extract_zero(data):\n",
    "    lst = []\n",
    "    for record in data:\n",
    "        if record[1] != 0.:\n",
    "            lst.append(record)\n",
    "    return lst"
   ]
  },
  {
   "cell_type": "code",
   "execution_count": 5,
   "metadata": {
    "collapsed": false
   },
   "outputs": [
    {
     "name": "stdout",
     "output_type": "stream",
     "text": [
      "9668\n",
      "0.700173812283\n"
     ]
    }
   ],
   "source": [
    "mu_wifi_wo_zero = np.array(extract_zero(mu_wifi))\n",
    "\n",
    "print len(mu_wifi_wo_zero)\n",
    "\n",
    "print len(mu_wifi_wo_zero)/float(len(mu_wifi))"
   ]
  },
  {
   "cell_type": "markdown",
   "metadata": {},
   "source": [
    "### We scan for wifi signal for every minute.\n",
    "\n",
    "If we can't detect **MU-WiFi** signal, then we record the data as 0 (zero)\n",
    "\n",
    "From **13808 of MU-WiFi records**, there are **9668 records** that we can detect the wifi signal which is approximately **70%** of all **MU-WiFi records**"
   ]
  },
  {
   "cell_type": "code",
   "execution_count": 6,
   "metadata": {
    "collapsed": false
   },
   "outputs": [
    {
     "data": {
      "text/plain": [
       "<matplotlib.text.Text at 0x110530e90>"
      ]
     },
     "execution_count": 6,
     "metadata": {},
     "output_type": "execute_result"
    },
    {
     "data": {
      "image/png": "[encoded data removed]",
      "text/plain": [
       "<matplotlib.figure.Figure at 0x10f5576d0>"
      ]
     },
     "metadata": {},
     "output_type": "display_data"
    }
   ],
   "source": [
    "plt.plot(mu_wifi_wo_zero[:,1], '.r')\n",
    "plt.ylabel('Signal Level (dBm)')\n",
    "plt.xlabel('Index')\n",
    "plt.grid()\n",
    "plt.title('Quality of MU-WiFi Wifi Signal')"
   ]
  },
  {
   "cell_type": "code",
   "execution_count": 7,
   "metadata": {
    "collapsed": false
   },
   "outputs": [
    {
     "data": {
      "text/plain": [
       "<matplotlib.text.Text at 0x1105ae090>"
      ]
     },
     "execution_count": 7,
     "metadata": {},
     "output_type": "execute_result"
    },
    {
     "data": {
      "image/png": "[encoded data removed]",
      "text/plain": [
       "<matplotlib.figure.Figure at 0x10f9dd290>"
      ]
     },
     "metadata": {},
     "output_type": "display_data"
    }
   ],
   "source": [
    "plt.plot(ic_wifi[:,1], '.g')\n",
    "plt.ylabel('Signal Level (dBm)')\n",
    "plt.xlabel('Index')\n",
    "plt.grid()\n",
    "plt.title('Quality of IC-WiFi Wifi Signal')"
   ]
  },
  {
   "cell_type": "code",
   "execution_count": 8,
   "metadata": {
    "collapsed": false
   },
   "outputs": [
    {
     "data": {
      "text/plain": [
       "<matplotlib.text.Text at 0x10fca8110>"
      ]
     },
     "execution_count": 8,
     "metadata": {},
     "output_type": "execute_result"
    },
    {
     "data": {
      "image/png": "[encoded data removed]",
      "text/plain": [
       "<matplotlib.figure.Figure at 0x110266850>"
      ]
     },
     "metadata": {},
     "output_type": "display_data"
    }
   ],
   "source": [
    "plt.plot(ttt_wifi[:,1], '.b')\n",
    "plt.ylabel('Signal Level (dBm)')\n",
    "plt.xlabel('Index')\n",
    "plt.grid()\n",
    "plt.title('Quality of TTTMUIC Wifi Signal')"
   ]
  },
  {
   "cell_type": "code",
   "execution_count": 9,
   "metadata": {
    "collapsed": false
   },
   "outputs": [
    {
     "data": {
      "text/plain": [
       "<matplotlib.legend.Legend at 0x11050f190>"
      ]
     },
     "execution_count": 9,
     "metadata": {},
     "output_type": "execute_result"
    },
    {
     "data": {
      "image/png": "[encoded data removed]",
      "text/plain": [
       "<matplotlib.figure.Figure at 0x10ff07310>"
      ]
     },
     "metadata": {},
     "output_type": "display_data"
    }
   ],
   "source": [
    "ttt = np.array([float(xx) for xx in ttt_wifi[:,1]])\n",
    "mu = np.array([float(xx) for xx in mu_wifi_wo_zero[:,1]])\n",
    "ic = np.array([float(xx) for xx in ic_wifi[:,1]])\n",
    "\n",
    "plt.hist(ttt, color='b', alpha=0.5, label='TTT');\n",
    "plt.hist(mu, color='r', alpha=0.5, label='MU');\n",
    "plt.hist(ic, color='g', alpha=0.5, label='IC');\n",
    "plt.title('Histogram of Signal Strength')\n",
    "plt.xlabel('Signal Level (dBm)')\n",
    "plt.ylabel('Frequency')\n",
    "plt.grid()\n",
    "plt.legend()\n"
   ]
  },
  {
   "cell_type": "code",
   "execution_count": 10,
   "metadata": {
    "collapsed": true
   },
   "outputs": [],
   "source": [
    "def report_data(arr):\n",
    "    print \"min =\", np.min(arr), \"dBm\"\n",
    "    print \"mean =\", np.mean(arr), \"dBm\"\n",
    "    print \"max =\", np.max(arr), \"dBm\"\n",
    "    print \"std =\", np.std(arr)"
   ]
  },
  {
   "cell_type": "markdown",
   "metadata": {},
   "source": [
    "## Data Summary"
   ]
  },
  {
   "cell_type": "markdown",
   "metadata": {},
   "source": [
    "### MU-WiFi Signal Level"
   ]
  },
  {
   "cell_type": "code",
   "execution_count": 11,
   "metadata": {
    "collapsed": false
   },
   "outputs": [
    {
     "name": "stdout",
     "output_type": "stream",
     "text": [
      "min = -99.0 dBm\n",
      "mean = -89.761481175 dBm\n",
      "max = -79.0 dBm\n",
      "std = 2.59079988841\n"
     ]
    }
   ],
   "source": [
    "mu = np.array([float(x) for x in mu_wifi_wo_zero[:,1]])\n",
    "\n",
    "report_data(mu)"
   ]
  },
  {
   "cell_type": "markdown",
   "metadata": {},
   "source": [
    "### IC-WiFi Signal Level"
   ]
  },
  {
   "cell_type": "code",
   "execution_count": 12,
   "metadata": {
    "collapsed": false
   },
   "outputs": [
    {
     "name": "stdout",
     "output_type": "stream",
     "text": [
      "min = -101.0 dBm\n",
      "mean = -90.8120011269 dBm\n",
      "max = -79.0 dBm\n",
      "std = 3.42987962025\n"
     ]
    }
   ],
   "source": [
    "ic = np.array([float(x) for x in ic_wifi[:,1]])\n",
    "\n",
    "report_data(ic)"
   ]
  },
  {
   "cell_type": "markdown",
   "metadata": {},
   "source": [
    "### TTTMUIC Signal Level"
   ]
  },
  {
   "cell_type": "code",
   "execution_count": 13,
   "metadata": {
    "collapsed": false
   },
   "outputs": [
    {
     "name": "stdout",
     "output_type": "stream",
     "text": [
      "min = -79.0 dBm\n",
      "mean = -56.6220784821 dBm\n",
      "max = -41.0 dBm\n",
      "std = 4.17945804992\n"
     ]
    }
   ],
   "source": [
    "ttt = np.array([float(x) for x in ttt_wifi[:,1]])\n",
    "\n",
    "report_data(ttt)"
   ]
  },
  {
   "cell_type": "code",
   "execution_count": null,
   "metadata": {
    "collapsed": true
   },
   "outputs": [],
   "source": []
  },
  {
   "cell_type": "code",
   "execution_count": 14,
   "metadata": {
    "collapsed": false
   },
   "outputs": [],
   "source": [
    "df = pd.read_csv(\"data.csv\")"
   ]
  },
  {
   "cell_type": "code",
   "execution_count": 15,
   "metadata": {
    "collapsed": false
   },
   "outputs": [
    {
     "data": {
      "text/html": [
       "<div>\n",
       "<table border=\"1\" class=\"dataframe\">\n",
       "  <thead>\n",
       "    <tr style=\"text-align: right;\">\n",
       "      <th></th>\n",
       "      <th>ssid</th>\n",
       "      <th>signal</th>\n",
       "      <th>quality</th>\n",
       "      <th>frequency</th>\n",
       "      <th>datetime</th>\n",
       "    </tr>\n",
       "  </thead>\n",
       "  <tbody>\n",
       "    <tr>\n",
       "      <th>0</th>\n",
       "      <td>TTTMUIC</td>\n",
       "      <td>-55</td>\n",
       "      <td>55/70</td>\n",
       "      <td>2.412 GHz</td>\n",
       "      <td>2016-06-02T12:06:01.696438+07:00</td>\n",
       "    </tr>\n",
       "    <tr>\n",
       "      <th>1</th>\n",
       "      <td>Xperia Z3_412f</td>\n",
       "      <td>-57</td>\n",
       "      <td>53/70</td>\n",
       "      <td>2.412 GHz</td>\n",
       "      <td>2016-06-02T12:06:01.696438+07:00</td>\n",
       "    </tr>\n",
       "    <tr>\n",
       "      <th>2</th>\n",
       "      <td>TTT3MUIC</td>\n",
       "      <td>-75</td>\n",
       "      <td>35/70</td>\n",
       "      <td>2.412 GHz</td>\n",
       "      <td>2016-06-02T12:06:01.696438+07:00</td>\n",
       "    </tr>\n",
       "    <tr>\n",
       "      <th>3</th>\n",
       "      <td>@ AISwifi</td>\n",
       "      <td>-85</td>\n",
       "      <td>25/70</td>\n",
       "      <td>2.412 GHz</td>\n",
       "      <td>2016-06-02T12:06:01.696438+07:00</td>\n",
       "    </tr>\n",
       "    <tr>\n",
       "      <th>4</th>\n",
       "      <td>MU-WiFi</td>\n",
       "      <td>-85</td>\n",
       "      <td>25/70</td>\n",
       "      <td>2.412 GHz</td>\n",
       "      <td>2016-06-02T12:06:01.696438+07:00</td>\n",
       "    </tr>\n",
       "    <tr>\n",
       "      <th>5</th>\n",
       "      <td>JIBBY</td>\n",
       "      <td>-63</td>\n",
       "      <td>47/70</td>\n",
       "      <td>2.437 GHz</td>\n",
       "      <td>2016-06-02T12:06:01.696438+07:00</td>\n",
       "    </tr>\n",
       "    <tr>\n",
       "      <th>6</th>\n",
       "      <td>TTTMUIC</td>\n",
       "      <td>-57</td>\n",
       "      <td>53/70</td>\n",
       "      <td>2.412 GHz</td>\n",
       "      <td>2016-06-02T12:07:02.186787+07:00</td>\n",
       "    </tr>\n",
       "    <tr>\n",
       "      <th>7</th>\n",
       "      <td>Xperia Z3_412f</td>\n",
       "      <td>-63</td>\n",
       "      <td>47/70</td>\n",
       "      <td>2.412 GHz</td>\n",
       "      <td>2016-06-02T12:07:02.186787+07:00</td>\n",
       "    </tr>\n",
       "    <tr>\n",
       "      <th>8</th>\n",
       "      <td>TTT3MUIC</td>\n",
       "      <td>-85</td>\n",
       "      <td>25/70</td>\n",
       "      <td>2.412 GHz</td>\n",
       "      <td>2016-06-02T12:07:02.186787+07:00</td>\n",
       "    </tr>\n",
       "    <tr>\n",
       "      <th>9</th>\n",
       "      <td>@ AISwifi</td>\n",
       "      <td>-89</td>\n",
       "      <td>21/70</td>\n",
       "      <td>2.412 GHz</td>\n",
       "      <td>2016-06-02T12:07:02.186787+07:00</td>\n",
       "    </tr>\n",
       "    <tr>\n",
       "      <th>10</th>\n",
       "      <td>MU-WiFi</td>\n",
       "      <td>-85</td>\n",
       "      <td>25/70</td>\n",
       "      <td>2.412 GHz</td>\n",
       "      <td>2016-06-02T12:07:02.186787+07:00</td>\n",
       "    </tr>\n",
       "    <tr>\n",
       "      <th>11</th>\n",
       "      <td>JIBBY</td>\n",
       "      <td>-65</td>\n",
       "      <td>45/70</td>\n",
       "      <td>2.437 GHz</td>\n",
       "      <td>2016-06-02T12:07:02.186787+07:00</td>\n",
       "    </tr>\n",
       "    <tr>\n",
       "      <th>12</th>\n",
       "      <td>SPH-WIRELESS</td>\n",
       "      <td>-91</td>\n",
       "      <td>19/70</td>\n",
       "      <td>2.437 GHz</td>\n",
       "      <td>2016-06-02T12:07:02.186787+07:00</td>\n",
       "    </tr>\n",
       "    <tr>\n",
       "      <th>13</th>\n",
       "      <td>TTTMUIC</td>\n",
       "      <td>-51</td>\n",
       "      <td>59/70</td>\n",
       "      <td>2.412 GHz</td>\n",
       "      <td>2016-06-02T12:08:18.520063+07:00</td>\n",
       "    </tr>\n",
       "    <tr>\n",
       "      <th>14</th>\n",
       "      <td>MU-WiFi</td>\n",
       "      <td>0</td>\n",
       "      <td>0</td>\n",
       "      <td>0</td>\n",
       "      <td>2016-06-02T12:08:18.520063+07:00</td>\n",
       "    </tr>\n",
       "    <tr>\n",
       "      <th>15</th>\n",
       "      <td>TTTMUIC</td>\n",
       "      <td>-51</td>\n",
       "      <td>59/70</td>\n",
       "      <td>2.412 GHz</td>\n",
       "      <td>2016-06-02T12:09:02.006655+07:00</td>\n",
       "    </tr>\n",
       "    <tr>\n",
       "      <th>16</th>\n",
       "      <td>Xperia Z3_412f</td>\n",
       "      <td>-69</td>\n",
       "      <td>41/70</td>\n",
       "      <td>2.412 GHz</td>\n",
       "      <td>2016-06-02T12:09:02.006655+07:00</td>\n",
       "    </tr>\n",
       "    <tr>\n",
       "      <th>17</th>\n",
       "      <td>TTT3MUIC</td>\n",
       "      <td>-75</td>\n",
       "      <td>35/70</td>\n",
       "      <td>2.412 GHz</td>\n",
       "      <td>2016-06-02T12:09:02.006655+07:00</td>\n",
       "    </tr>\n",
       "    <tr>\n",
       "      <th>18</th>\n",
       "      <td>@ AISwifi</td>\n",
       "      <td>-85</td>\n",
       "      <td>25/70</td>\n",
       "      <td>2.412 GHz</td>\n",
       "      <td>2016-06-02T12:09:02.006655+07:00</td>\n",
       "    </tr>\n",
       "    <tr>\n",
       "      <th>19</th>\n",
       "      <td>JIBBY</td>\n",
       "      <td>-63</td>\n",
       "      <td>47/70</td>\n",
       "      <td>2.437 GHz</td>\n",
       "      <td>2016-06-02T12:09:02.006655+07:00</td>\n",
       "    </tr>\n",
       "    <tr>\n",
       "      <th>20</th>\n",
       "      <td>MU-WiFi</td>\n",
       "      <td>-83</td>\n",
       "      <td>27/70</td>\n",
       "      <td>2.412 GHz</td>\n",
       "      <td>2016-06-02T12:09:02.006655+07:00</td>\n",
       "    </tr>\n",
       "    <tr>\n",
       "      <th>21</th>\n",
       "      <td>TTTMUIC</td>\n",
       "      <td>-59</td>\n",
       "      <td>51/70</td>\n",
       "      <td>2.412 GHz</td>\n",
       "      <td>2016-06-02T12:10:01.492317+07:00</td>\n",
       "    </tr>\n",
       "    <tr>\n",
       "      <th>22</th>\n",
       "      <td>Xperia Z3_412f</td>\n",
       "      <td>-61</td>\n",
       "      <td>49/70</td>\n",
       "      <td>2.412 GHz</td>\n",
       "      <td>2016-06-02T12:10:01.492317+07:00</td>\n",
       "    </tr>\n",
       "    <tr>\n",
       "      <th>23</th>\n",
       "      <td>TTT3MUIC</td>\n",
       "      <td>-87</td>\n",
       "      <td>23/70</td>\n",
       "      <td>2.412 GHz</td>\n",
       "      <td>2016-06-02T12:10:01.492317+07:00</td>\n",
       "    </tr>\n",
       "    <tr>\n",
       "      <th>24</th>\n",
       "      <td>@ AISwifi</td>\n",
       "      <td>-85</td>\n",
       "      <td>25/70</td>\n",
       "      <td>2.412 GHz</td>\n",
       "      <td>2016-06-02T12:10:01.492317+07:00</td>\n",
       "    </tr>\n",
       "    <tr>\n",
       "      <th>25</th>\n",
       "      <td>JIBBY</td>\n",
       "      <td>-63</td>\n",
       "      <td>47/70</td>\n",
       "      <td>2.437 GHz</td>\n",
       "      <td>2016-06-02T12:10:01.492317+07:00</td>\n",
       "    </tr>\n",
       "    <tr>\n",
       "      <th>26</th>\n",
       "      <td>MU-WiFi</td>\n",
       "      <td>-85</td>\n",
       "      <td>25/70</td>\n",
       "      <td>2.412 GHz</td>\n",
       "      <td>2016-06-02T12:10:01.492317+07:00</td>\n",
       "    </tr>\n",
       "    <tr>\n",
       "      <th>27</th>\n",
       "      <td>TTTMUIC</td>\n",
       "      <td>-55</td>\n",
       "      <td>55/70</td>\n",
       "      <td>2.412 GHz</td>\n",
       "      <td>2016-06-02T12:11:02.016750+07:00</td>\n",
       "    </tr>\n",
       "    <tr>\n",
       "      <th>28</th>\n",
       "      <td>Xperia Z3_412f</td>\n",
       "      <td>-59</td>\n",
       "      <td>51/70</td>\n",
       "      <td>2.412 GHz</td>\n",
       "      <td>2016-06-02T12:11:02.016750+07:00</td>\n",
       "    </tr>\n",
       "    <tr>\n",
       "      <th>29</th>\n",
       "      <td>TTT3MUIC</td>\n",
       "      <td>-77</td>\n",
       "      <td>33/70</td>\n",
       "      <td>2.412 GHz</td>\n",
       "      <td>2016-06-02T12:11:02.016750+07:00</td>\n",
       "    </tr>\n",
       "    <tr>\n",
       "      <th>...</th>\n",
       "      <td>...</td>\n",
       "      <td>...</td>\n",
       "      <td>...</td>\n",
       "      <td>...</td>\n",
       "      <td>...</td>\n",
       "    </tr>\n",
       "    <tr>\n",
       "      <th>75264</th>\n",
       "      <td>TTTMUIC</td>\n",
       "      <td>-57</td>\n",
       "      <td>53/70</td>\n",
       "      <td>2.412 GHz</td>\n",
       "      <td>2016-06-10T23:06:01.461968+07:00</td>\n",
       "    </tr>\n",
       "    <tr>\n",
       "      <th>75265</th>\n",
       "      <td>JIBBY</td>\n",
       "      <td>-63</td>\n",
       "      <td>47/70</td>\n",
       "      <td>2.437 GHz</td>\n",
       "      <td>2016-06-10T23:06:01.462471+07:00</td>\n",
       "    </tr>\n",
       "    <tr>\n",
       "      <th>75266</th>\n",
       "      <td>IC-WiFi</td>\n",
       "      <td>-89</td>\n",
       "      <td>21/70</td>\n",
       "      <td>2.412 GHz</td>\n",
       "      <td>2016-06-10T23:06:01.462896+07:00</td>\n",
       "    </tr>\n",
       "    <tr>\n",
       "      <th>75267</th>\n",
       "      <td>@ AISwifi</td>\n",
       "      <td>-87</td>\n",
       "      <td>23/70</td>\n",
       "      <td>2.462 GHz</td>\n",
       "      <td>2016-06-10T23:06:01.463243+07:00</td>\n",
       "    </tr>\n",
       "    <tr>\n",
       "      <th>75268</th>\n",
       "      <td>MU-WiFi</td>\n",
       "      <td>-87</td>\n",
       "      <td>23/70</td>\n",
       "      <td>2.462 GHz</td>\n",
       "      <td>2016-06-10T23:06:01.463659+07:00</td>\n",
       "    </tr>\n",
       "    <tr>\n",
       "      <th>75269</th>\n",
       "      <td>TTT3MUIC</td>\n",
       "      <td>-69</td>\n",
       "      <td>41/70</td>\n",
       "      <td>2.412 GHz</td>\n",
       "      <td>2016-06-10T23:07:01.963495+07:00</td>\n",
       "    </tr>\n",
       "    <tr>\n",
       "      <th>75270</th>\n",
       "      <td>TTTMUIC</td>\n",
       "      <td>-55</td>\n",
       "      <td>55/70</td>\n",
       "      <td>2.412 GHz</td>\n",
       "      <td>2016-06-10T23:07:01.965266+07:00</td>\n",
       "    </tr>\n",
       "    <tr>\n",
       "      <th>75271</th>\n",
       "      <td>JIBBY</td>\n",
       "      <td>-65</td>\n",
       "      <td>45/70</td>\n",
       "      <td>2.437 GHz</td>\n",
       "      <td>2016-06-10T23:07:01.965642+07:00</td>\n",
       "    </tr>\n",
       "    <tr>\n",
       "      <th>75272</th>\n",
       "      <td>IC-WiFi</td>\n",
       "      <td>-91</td>\n",
       "      <td>19/70</td>\n",
       "      <td>2.412 GHz</td>\n",
       "      <td>2016-06-10T23:07:01.965981+07:00</td>\n",
       "    </tr>\n",
       "    <tr>\n",
       "      <th>75273</th>\n",
       "      <td>@ AISwifi</td>\n",
       "      <td>-85</td>\n",
       "      <td>25/70</td>\n",
       "      <td>2.462 GHz</td>\n",
       "      <td>2016-06-10T23:07:01.966321+07:00</td>\n",
       "    </tr>\n",
       "    <tr>\n",
       "      <th>75274</th>\n",
       "      <td>MU-WiFi</td>\n",
       "      <td>-85</td>\n",
       "      <td>25/70</td>\n",
       "      <td>2.462 GHz</td>\n",
       "      <td>2016-06-10T23:07:01.966686+07:00</td>\n",
       "    </tr>\n",
       "    <tr>\n",
       "      <th>75275</th>\n",
       "      <td>TTT3MUIC</td>\n",
       "      <td>-69</td>\n",
       "      <td>41/70</td>\n",
       "      <td>2.412 GHz</td>\n",
       "      <td>2016-06-10T23:08:01.466442+07:00</td>\n",
       "    </tr>\n",
       "    <tr>\n",
       "      <th>75276</th>\n",
       "      <td>TTTMUIC</td>\n",
       "      <td>-51</td>\n",
       "      <td>59/70</td>\n",
       "      <td>2.412 GHz</td>\n",
       "      <td>2016-06-10T23:08:01.468225+07:00</td>\n",
       "    </tr>\n",
       "    <tr>\n",
       "      <th>75277</th>\n",
       "      <td>JIBBY</td>\n",
       "      <td>-65</td>\n",
       "      <td>45/70</td>\n",
       "      <td>2.437 GHz</td>\n",
       "      <td>2016-06-10T23:08:01.468626+07:00</td>\n",
       "    </tr>\n",
       "    <tr>\n",
       "      <th>75278</th>\n",
       "      <td>IC-WiFi</td>\n",
       "      <td>-89</td>\n",
       "      <td>21/70</td>\n",
       "      <td>2.412 GHz</td>\n",
       "      <td>2016-06-10T23:08:01.468981+07:00</td>\n",
       "    </tr>\n",
       "    <tr>\n",
       "      <th>75279</th>\n",
       "      <td>@ AISwifi</td>\n",
       "      <td>-87</td>\n",
       "      <td>23/70</td>\n",
       "      <td>2.462 GHz</td>\n",
       "      <td>2016-06-10T23:08:01.469314+07:00</td>\n",
       "    </tr>\n",
       "    <tr>\n",
       "      <th>75280</th>\n",
       "      <td>MU-WiFi</td>\n",
       "      <td>-85</td>\n",
       "      <td>25/70</td>\n",
       "      <td>2.462 GHz</td>\n",
       "      <td>2016-06-10T23:08:01.469683+07:00</td>\n",
       "    </tr>\n",
       "    <tr>\n",
       "      <th>75281</th>\n",
       "      <td>TTT3MUIC</td>\n",
       "      <td>-69</td>\n",
       "      <td>41/70</td>\n",
       "      <td>2.412 GHz</td>\n",
       "      <td>2016-06-10T23:09:01.970775+07:00</td>\n",
       "    </tr>\n",
       "    <tr>\n",
       "      <th>75282</th>\n",
       "      <td>TTTMUIC</td>\n",
       "      <td>-55</td>\n",
       "      <td>55/70</td>\n",
       "      <td>2.412 GHz</td>\n",
       "      <td>2016-06-10T23:09:01.972721+07:00</td>\n",
       "    </tr>\n",
       "    <tr>\n",
       "      <th>75283</th>\n",
       "      <td>JIBBY</td>\n",
       "      <td>-65</td>\n",
       "      <td>45/70</td>\n",
       "      <td>2.437 GHz</td>\n",
       "      <td>2016-06-10T23:09:01.973105+07:00</td>\n",
       "    </tr>\n",
       "    <tr>\n",
       "      <th>75284</th>\n",
       "      <td>IC-WiFi</td>\n",
       "      <td>-89</td>\n",
       "      <td>21/70</td>\n",
       "      <td>2.412 GHz</td>\n",
       "      <td>2016-06-10T23:09:01.973499+07:00</td>\n",
       "    </tr>\n",
       "    <tr>\n",
       "      <th>75285</th>\n",
       "      <td>@ AISwifi</td>\n",
       "      <td>-87</td>\n",
       "      <td>23/70</td>\n",
       "      <td>2.462 GHz</td>\n",
       "      <td>2016-06-10T23:09:01.973829+07:00</td>\n",
       "    </tr>\n",
       "    <tr>\n",
       "      <th>75286</th>\n",
       "      <td>MU-WiFi</td>\n",
       "      <td>-87</td>\n",
       "      <td>23/70</td>\n",
       "      <td>2.462 GHz</td>\n",
       "      <td>2016-06-10T23:09:01.974214+07:00</td>\n",
       "    </tr>\n",
       "    <tr>\n",
       "      <th>75287</th>\n",
       "      <td>TTT3MUIC</td>\n",
       "      <td>-67</td>\n",
       "      <td>43/70</td>\n",
       "      <td>2.412 GHz</td>\n",
       "      <td>2016-06-10T23:10:01.496148+07:00</td>\n",
       "    </tr>\n",
       "    <tr>\n",
       "      <th>75288</th>\n",
       "      <td>TTTMUIC</td>\n",
       "      <td>-49</td>\n",
       "      <td>61/70</td>\n",
       "      <td>2.412 GHz</td>\n",
       "      <td>2016-06-10T23:10:01.496906+07:00</td>\n",
       "    </tr>\n",
       "    <tr>\n",
       "      <th>75289</th>\n",
       "      <td>JIBBY</td>\n",
       "      <td>-67</td>\n",
       "      <td>43/70</td>\n",
       "      <td>2.437 GHz</td>\n",
       "      <td>2016-06-10T23:10:01.497340+07:00</td>\n",
       "    </tr>\n",
       "    <tr>\n",
       "      <th>75290</th>\n",
       "      <td>IC-WiFi</td>\n",
       "      <td>-89</td>\n",
       "      <td>21/70</td>\n",
       "      <td>2.412 GHz</td>\n",
       "      <td>2016-06-10T23:10:01.497722+07:00</td>\n",
       "    </tr>\n",
       "    <tr>\n",
       "      <th>75291</th>\n",
       "      <td>@ AISwifi</td>\n",
       "      <td>-87</td>\n",
       "      <td>23/70</td>\n",
       "      <td>2.462 GHz</td>\n",
       "      <td>2016-06-10T23:10:01.498092+07:00</td>\n",
       "    </tr>\n",
       "    <tr>\n",
       "      <th>75292</th>\n",
       "      <td>MU-WiFi</td>\n",
       "      <td>-87</td>\n",
       "      <td>23/70</td>\n",
       "      <td>2.462 GHz</td>\n",
       "      <td>2016-06-10T23:10:01.498490+07:00</td>\n",
       "    </tr>\n",
       "    <tr>\n",
       "      <th>75293</th>\n",
       "      <td>SPH-WIRELESS</td>\n",
       "      <td>-93</td>\n",
       "      <td>17/70</td>\n",
       "      <td>2.437 GHz</td>\n",
       "      <td>2016-06-10T23:10:01.498854+07:00</td>\n",
       "    </tr>\n",
       "  </tbody>\n",
       "</table>\n",
       "<p>75294 rows × 5 columns</p>\n",
       "</div>"
      ],
      "text/plain": [
       "                 ssid  signal quality  frequency  \\\n",
       "0             TTTMUIC     -55   55/70  2.412 GHz   \n",
       "1      Xperia Z3_412f     -57   53/70  2.412 GHz   \n",
       "2            TTT3MUIC     -75   35/70  2.412 GHz   \n",
       "3           @ AISwifi     -85   25/70  2.412 GHz   \n",
       "4             MU-WiFi     -85   25/70  2.412 GHz   \n",
       "5               JIBBY     -63   47/70  2.437 GHz   \n",
       "6             TTTMUIC     -57   53/70  2.412 GHz   \n",
       "7      Xperia Z3_412f     -63   47/70  2.412 GHz   \n",
       "8            TTT3MUIC     -85   25/70  2.412 GHz   \n",
       "9           @ AISwifi     -89   21/70  2.412 GHz   \n",
       "10            MU-WiFi     -85   25/70  2.412 GHz   \n",
       "11              JIBBY     -65   45/70  2.437 GHz   \n",
       "12       SPH-WIRELESS     -91   19/70  2.437 GHz   \n",
       "13            TTTMUIC     -51   59/70  2.412 GHz   \n",
       "14            MU-WiFi       0       0          0   \n",
       "15            TTTMUIC     -51   59/70  2.412 GHz   \n",
       "16     Xperia Z3_412f     -69   41/70  2.412 GHz   \n",
       "17           TTT3MUIC     -75   35/70  2.412 GHz   \n",
       "18          @ AISwifi     -85   25/70  2.412 GHz   \n",
       "19              JIBBY     -63   47/70  2.437 GHz   \n",
       "20            MU-WiFi     -83   27/70  2.412 GHz   \n",
       "21            TTTMUIC     -59   51/70  2.412 GHz   \n",
       "22     Xperia Z3_412f     -61   49/70  2.412 GHz   \n",
       "23           TTT3MUIC     -87   23/70  2.412 GHz   \n",
       "24          @ AISwifi     -85   25/70  2.412 GHz   \n",
       "25              JIBBY     -63   47/70  2.437 GHz   \n",
       "26            MU-WiFi     -85   25/70  2.412 GHz   \n",
       "27            TTTMUIC     -55   55/70  2.412 GHz   \n",
       "28     Xperia Z3_412f     -59   51/70  2.412 GHz   \n",
       "29           TTT3MUIC     -77   33/70  2.412 GHz   \n",
       "...               ...     ...     ...        ...   \n",
       "75264         TTTMUIC     -57   53/70  2.412 GHz   \n",
       "75265           JIBBY     -63   47/70  2.437 GHz   \n",
       "75266         IC-WiFi     -89   21/70  2.412 GHz   \n",
       "75267       @ AISwifi     -87   23/70  2.462 GHz   \n",
       "75268         MU-WiFi     -87   23/70  2.462 GHz   \n",
       "75269        TTT3MUIC     -69   41/70  2.412 GHz   \n",
       "75270         TTTMUIC     -55   55/70  2.412 GHz   \n",
       "75271           JIBBY     -65   45/70  2.437 GHz   \n",
       "75272         IC-WiFi     -91   19/70  2.412 GHz   \n",
       "75273       @ AISwifi     -85   25/70  2.462 GHz   \n",
       "75274         MU-WiFi     -85   25/70  2.462 GHz   \n",
       "75275        TTT3MUIC     -69   41/70  2.412 GHz   \n",
       "75276         TTTMUIC     -51   59/70  2.412 GHz   \n",
       "75277           JIBBY     -65   45/70  2.437 GHz   \n",
       "75278         IC-WiFi     -89   21/70  2.412 GHz   \n",
       "75279       @ AISwifi     -87   23/70  2.462 GHz   \n",
       "75280         MU-WiFi     -85   25/70  2.462 GHz   \n",
       "75281        TTT3MUIC     -69   41/70  2.412 GHz   \n",
       "75282         TTTMUIC     -55   55/70  2.412 GHz   \n",
       "75283           JIBBY     -65   45/70  2.437 GHz   \n",
       "75284         IC-WiFi     -89   21/70  2.412 GHz   \n",
       "75285       @ AISwifi     -87   23/70  2.462 GHz   \n",
       "75286         MU-WiFi     -87   23/70  2.462 GHz   \n",
       "75287        TTT3MUIC     -67   43/70  2.412 GHz   \n",
       "75288         TTTMUIC     -49   61/70  2.412 GHz   \n",
       "75289           JIBBY     -67   43/70  2.437 GHz   \n",
       "75290         IC-WiFi     -89   21/70  2.412 GHz   \n",
       "75291       @ AISwifi     -87   23/70  2.462 GHz   \n",
       "75292         MU-WiFi     -87   23/70  2.462 GHz   \n",
       "75293    SPH-WIRELESS     -93   17/70  2.437 GHz   \n",
       "\n",
       "                               datetime  \n",
       "0      2016-06-02T12:06:01.696438+07:00  \n",
       "1      2016-06-02T12:06:01.696438+07:00  \n",
       "2      2016-06-02T12:06:01.696438+07:00  \n",
       "3      2016-06-02T12:06:01.696438+07:00  \n",
       "4      2016-06-02T12:06:01.696438+07:00  \n",
       "5      2016-06-02T12:06:01.696438+07:00  \n",
       "6      2016-06-02T12:07:02.186787+07:00  \n",
       "7      2016-06-02T12:07:02.186787+07:00  \n",
       "8      2016-06-02T12:07:02.186787+07:00  \n",
       "9      2016-06-02T12:07:02.186787+07:00  \n",
       "10     2016-06-02T12:07:02.186787+07:00  \n",
       "11     2016-06-02T12:07:02.186787+07:00  \n",
       "12     2016-06-02T12:07:02.186787+07:00  \n",
       "13     2016-06-02T12:08:18.520063+07:00  \n",
       "14     2016-06-02T12:08:18.520063+07:00  \n",
       "15     2016-06-02T12:09:02.006655+07:00  \n",
       "16     2016-06-02T12:09:02.006655+07:00  \n",
       "17     2016-06-02T12:09:02.006655+07:00  \n",
       "18     2016-06-02T12:09:02.006655+07:00  \n",
       "19     2016-06-02T12:09:02.006655+07:00  \n",
       "20     2016-06-02T12:09:02.006655+07:00  \n",
       "21     2016-06-02T12:10:01.492317+07:00  \n",
       "22     2016-06-02T12:10:01.492317+07:00  \n",
       "23     2016-06-02T12:10:01.492317+07:00  \n",
       "24     2016-06-02T12:10:01.492317+07:00  \n",
       "25     2016-06-02T12:10:01.492317+07:00  \n",
       "26     2016-06-02T12:10:01.492317+07:00  \n",
       "27     2016-06-02T12:11:02.016750+07:00  \n",
       "28     2016-06-02T12:11:02.016750+07:00  \n",
       "29     2016-06-02T12:11:02.016750+07:00  \n",
       "...                                 ...  \n",
       "75264  2016-06-10T23:06:01.461968+07:00  \n",
       "75265  2016-06-10T23:06:01.462471+07:00  \n",
       "75266  2016-06-10T23:06:01.462896+07:00  \n",
       "75267  2016-06-10T23:06:01.463243+07:00  \n",
       "75268  2016-06-10T23:06:01.463659+07:00  \n",
       "75269  2016-06-10T23:07:01.963495+07:00  \n",
       "75270  2016-06-10T23:07:01.965266+07:00  \n",
       "75271  2016-06-10T23:07:01.965642+07:00  \n",
       "75272  2016-06-10T23:07:01.965981+07:00  \n",
       "75273  2016-06-10T23:07:01.966321+07:00  \n",
       "75274  2016-06-10T23:07:01.966686+07:00  \n",
       "75275  2016-06-10T23:08:01.466442+07:00  \n",
       "75276  2016-06-10T23:08:01.468225+07:00  \n",
       "75277  2016-06-10T23:08:01.468626+07:00  \n",
       "75278  2016-06-10T23:08:01.468981+07:00  \n",
       "75279  2016-06-10T23:08:01.469314+07:00  \n",
       "75280  2016-06-10T23:08:01.469683+07:00  \n",
       "75281  2016-06-10T23:09:01.970775+07:00  \n",
       "75282  2016-06-10T23:09:01.972721+07:00  \n",
       "75283  2016-06-10T23:09:01.973105+07:00  \n",
       "75284  2016-06-10T23:09:01.973499+07:00  \n",
       "75285  2016-06-10T23:09:01.973829+07:00  \n",
       "75286  2016-06-10T23:09:01.974214+07:00  \n",
       "75287  2016-06-10T23:10:01.496148+07:00  \n",
       "75288  2016-06-10T23:10:01.496906+07:00  \n",
       "75289  2016-06-10T23:10:01.497340+07:00  \n",
       "75290  2016-06-10T23:10:01.497722+07:00  \n",
       "75291  2016-06-10T23:10:01.498092+07:00  \n",
       "75292  2016-06-10T23:10:01.498490+07:00  \n",
       "75293  2016-06-10T23:10:01.498854+07:00  \n",
       "\n",
       "[75294 rows x 5 columns]"
      ]
     },
     "execution_count": 15,
     "metadata": {},
     "output_type": "execute_result"
    }
   ],
   "source": [
    "df"
   ]
  }
 ],
 "metadata": {
  "kernelspec": {
   "display_name": "Python 2",
   "language": "python",
   "name": "python2"
  },
  "language_info": {
   "codemirror_mode": {
    "name": "ipython",
    "version": 2
   },
   "file_extension": ".py",
   "mimetype": "text/x-python",
   "name": "python",
   "nbconvert_exporter": "python",
   "pygments_lexer": "ipython2",
   "version": "2.7.10"
  }
 },
 "nbformat": 4,
 "nbformat_minor": 0
}
